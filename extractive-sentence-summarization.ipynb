{
 "cells": [
  {
   "cell_type": "markdown",
   "metadata": {},
   "source": [
    "# Extractive Sentence Summarization\n",
    "\n",
    "In this notebook I provide a python class for creating a full-sentence summary of document. Sentence summary is useful for document summary applications where it is beneficial to give users a quick sense of what is contained in the document to determine if they wanted to read further. There are two different categories of text summarization techniques: extractive and abstractive. Extractive techniques generally require less data, are unsupervised, and \"extract\" sentences from the document. Conversly, abstrative techniques require labeled training data, are supervised, and create summaries made up of generated, rather than extracted sentences. Methods, which are implemented in the open source package `sumy`, are all extractive and include KL-sum, Edmundson, LexRank, LSA, and random.\n",
    "\n",
    "## Techniques\n",
    "\n",
    "**LSA**  \n",
    "An unsupervised technique that relies on Singular Value Decomposition of a term-sentence matrix with TFIDF weights. See [Generic Text Summarization Using Relevance Measure and Latent Semantic Analysis](http://www.cs.bham.ac.uk/~pxt/IDA/text_summary.pdf) for additional details.\n",
    "\n",
    "**Edmundson**  \n",
    "A heuristic technique that considers word frequency, cue words (eg significant, impossible, hardly), title words, and word location. See [New Methods in Automatic Extracting, 1969](http://courses.ischool.berkeley.edu/i256/f06/papers/edmonson69.pdf) for additional details.\n",
    "\n",
    "**Kullback–Leibler**  \n",
    "An unsupervised technique that selects sentences by minimizing the divergence between word distribution in the document as a whole and the sentences in the summary. See [Exploring Content Models for Multi-Document Summarization, 2009](http://www.aclweb.org/anthology/N09-1041) for additional details.\n",
    " \n",
    "**LexRank**  \n",
    "An extension of Google's Page Rank algorithm to sentence selection where sentences are nodes and similarity scores are edges. See [LexRank: Graph-based Lexical Centrality as Salience in Text Summarization, 2004](https://www.cs.cmu.edu/afs/cs/project/jair/pub/volume22/erkan04a-html/erkan04a.html) for additional details.\n",
    "\n",
    "\n",
    "## Packages\n",
    "\n",
    "Package versions are:\n",
    "\n",
    "```\n",
    "sumy==0.7.0\n",
    "nltk==3.2.5\n",
    "```"
   ]
  },
  {
   "cell_type": "markdown",
   "metadata": {},
   "source": [
    "## Define the Sentence Extractor Class"
   ]
  },
  {
   "cell_type": "code",
   "execution_count": 4,
   "metadata": {
    "collapsed": true
   },
   "outputs": [],
   "source": [
    "from sumy.nlp.tokenizers import Tokenizer\n",
    "from sumy.parsers.plaintext import PlaintextParser\n",
    "from sumy.summarizers.edmundson import EdmundsonSummarizer\n",
    "from sumy.summarizers.kl import KLSummarizer\n",
    "from sumy.summarizers.lex_rank import LexRankSummarizer\n",
    "from sumy.summarizers.lsa import LsaSummarizer\n",
    "from sumy.summarizers.random import RandomSummarizer\n",
    "import nltk\n",
    "\n",
    "class SentencesExtractor:\n",
    "    \"\"\"Extract human readable sentences from text.\n",
    "\n",
    "    Arguments\n",
    "    ----------\n",
    "\n",
    "    summarization_method : str, {'edmundson', 'lsa', 'lexrank', 'kl', 'random'}\n",
    "        Method for extracting the sentence.\n",
    "        - 'edmundson': Heuristic method based on sentence location.\n",
    "        - 'lsa': Latent Semantic Analalysis, based on on SVD of term-sentence matrix.\n",
    "        - 'lexrank': LexRank method, inspired by Google's PageRank algorithm.\n",
    "        - 'kl': Kullback-Leibler divergence method.\n",
    "        - 'random': Random sentences, for evaluating performance.\n",
    "\n",
    "    stop_words : list\n",
    "        Words to not consider when evaluating sentence importance.\n",
    "\n",
    "    sentences_count : int\n",
    "        Number of sentences to return, between 1 and 5\n",
    "    \"\"\"\n",
    "\n",
    "    _MIN_SENTENCES = 1\n",
    "    _MAX_SENTENCES = 5\n",
    "    _NAME_TO_SUMMARIZER_CLS = {\n",
    "        'edmundson': EdmundsonSummarizer(cue_weight=0.0, key_weight=0.0, location_weight=1.0, title_weight=0.0),\n",
    "        'lsa': LsaSummarizer(),\n",
    "        'lexrank': LexRankSummarizer(),\n",
    "        'kl': KLSummarizer(),\n",
    "        'random': RandomSummarizer(),\n",
    "    }\n",
    "\n",
    "    def __init__(self, summarization_method, sentences_count, stop_words):\n",
    "        assert self._MIN_SENTENCES <= sentences_count <= self._MAX_SENTENCES\n",
    "        assert summarization_method in self._NAME_TO_SUMMARIZER_CLS\n",
    "        self.sentences_count = sentences_count\n",
    "        self.summarizer = self._NAME_TO_SUMMARIZER_CLS[summarization_method]\n",
    "        self.summarizer.null_words = frozenset(stop_words)\n",
    "        self.summarization_method = summarization_method\n",
    "        try:\n",
    "            nltk.data.find('tokenizers/punkt')\n",
    "        except LookupError:\n",
    "            nltk.download('punkt')\n",
    "        self.tokenizer = Tokenizer('english')\n",
    "\n",
    "    def extract(self, text):\n",
    "        text = PlaintextParser.from_string(text, self.tokenizer).document\n",
    "        summary = self.summarizer(text, sentences_count=self.sentences_count)\n",
    "        return {\n",
    "            'summary': ' '.join(map(str, summary)),\n",
    "            'sentences_count': self.sentences_count,\n",
    "            'summarization_method': self.summarization_method\n",
    "        }"
   ]
  },
  {
   "cell_type": "markdown",
   "metadata": {},
   "source": [
    "## Example Usage"
   ]
  },
  {
   "cell_type": "code",
   "execution_count": 2,
   "metadata": {
    "collapsed": true
   },
   "outputs": [],
   "source": [
    "from nltk.corpus import stopwords\n",
    "sw = stopwords.words('english')\n",
    "\n",
    "se = SentencesExtractor(\n",
    "    summarization_method='lexrank'\n",
    "    , sentences_count=2\n",
    "    , stop_words=sw\n",
    "    )"
   ]
  },
  {
   "cell_type": "code",
   "execution_count": 3,
   "metadata": {},
   "outputs": [
    {
     "name": "stdout",
     "output_type": "stream",
     "text": [
      "Document in 2 sentences using lexrank:\n",
      "\n",
      "Although overturned megaflaps are associated with flaring salt, there is no direct link between megaflap formation and the initiation of salt sheets. Strata within a megaflap are usually convergent, and the lower boundary is typically concordant with the top salt.\n"
     ]
    }
   ],
   "source": [
    "txt = '''\n",
    "Megaflaps are steep stratal panels that extend far up the sides of\n",
    "diapirs or their equivalent welds. They have multiple-kilometer fold\n",
    "widths and structural relief and  are thus distinct from smaller- scale\n",
    "composite halokinetic sequences. Maximum dips range from near-vertical\n",
    "to completely overturned. Although overturned megaflaps are associated with\n",
    "flaring salt, there is no direct link between megaflap formation and the\n",
    "initiation of salt sheets. Strata within a megaflap are usually convergent,\n",
    "and the lower boundary is typically concordant with the top salt. The\n",
    "upper boundary ranges between a prominent onlap surface and a more diffuse\n",
    "zone of gradual rotation and thinning, and growth strata likewise display\n",
    "both onlap and stacked wedge geometries. We use quantitative cross-section\n",
    "restoration to elucidate the origin and development of megaflaps. Megaflaps\n",
    "typically represent the relatively thin roofs of early salt structures that\n",
    "include single- flap active diapirs, passive diapirs, salt pillows,\n",
    "and salt sheets. They develop during halokinetic drape folding as the\n",
    "minibasin sinks, during contractional squeezing of the diapir and its\n",
    "roof, or during some combination of the two. The kinematics are dominated\n",
    "by either limb rotation or kink-band migration, in which roof strata\n",
    "move through a fold hinge into a lengthening steep megaflap. Both restoration\n",
    "results and direct field evidence suggest that internal strain is minor,\n",
    "with little bed lengthening and thinning. Recognition and understanding of\n",
    "megaflaps are critical to successful petroleum exploration of three-way\n",
    "truncation traps against salt. Megaflaps also have implications for the\n",
    "lateral seal of stratigraphic traps and fluid pressures in minibasins\n",
    "'''\n",
    "\n",
    "result = se.extract(txt)\n",
    "\n",
    "print('Document in {} sentences using {}:\\n\\n{}'.format(\n",
    "    result['sentences_count'], \n",
    "    result['summarization_method'], \n",
    "    result['summary']))"
   ]
  }
 ],
 "metadata": {
  "kernelspec": {
   "display_name": "Python 3",
   "language": "python",
   "name": "python3"
  },
  "language_info": {
   "codemirror_mode": {
    "name": "ipython",
    "version": 3
   },
   "file_extension": ".py",
   "mimetype": "text/x-python",
   "name": "python",
   "nbconvert_exporter": "python",
   "pygments_lexer": "ipython3",
   "version": "3.6.1"
  }
 },
 "nbformat": 4,
 "nbformat_minor": 2
}
